{
 "cells": [
  {
   "cell_type": "code",
   "execution_count": 1,
   "id": "632df0bb-c8ce-4b96-976e-91164ce3b0f6",
   "metadata": {},
   "outputs": [
    {
     "data": {
      "text/plain": [
       "'Flask is a popular web framework for building web applications in Python. It is a lightweight framework that provides a simple and flexible way to create web applications. Here are some key points about Flask:\\n\\nMinimalistic: Flask follows a minimalistic approach, meaning it provides only the essential tools and features needed for web development. It allows developers to choose the tools and libraries they prefer and avoids imposing any restrictions or dependencies.\\n\\nEasy to Use: Flask is designed to be easy to understand and use. Its API is simple and intuitive, making it a great choice for beginners. The framework encourages a straightforward and readable coding style, making development faster and more efficient.\\n\\nFlexibility: Flask provides a flexible architecture, allowing developers to customize and extend its functionality to suit their specific needs. It does not enforce any particular project structure or design patterns, giving developers the freedom to organize their code as they prefer.\\n\\nExtensive Documentation: Flask has excellent documentation that covers all aspects of the framework. The documentation is comprehensive, well-structured, and includes examples and code snippets, making it easier for developers to learn and use Flask effectively.\\n\\nLarge Ecosystem: Despite being lightweight, Flask has a large and active community. This results in a wide range of Flask extensions and libraries available, providing additional functionality and features for various tasks such as database integration, form validation, authentication, and more. The rich ecosystem of Flask allows developers to leverage existing solutions and save development time.\\n\\nIntegration: Flask seamlessly integrates with other popular Python libraries and tools, allowing developers to combine Flask with technologies such as SQLAlchemy for database management, Jinja2 for templating, and Werkzeug for routing and debugging.\\n\\nScalability: Flask is well-suited for both small and large applications. It does not impose any restrictions on application size or complexity, enabling developers to scale their projects as needed.\\n\\nTesting Support: Flask provides built-in support for testing, making it easier to write unit tests and integration tests for your web applications. This facilitates the development of robust and reliable applications.\\n\\nThese advantages make Flask a popular choice among developers for building web applications in Python.\\n'"
      ]
     },
     "execution_count": 1,
     "metadata": {},
     "output_type": "execute_result"
    }
   ],
   "source": [
    "#que 1\n",
    "\"\"\"Flask is a popular web framework for building web applications in Python. It is a lightweight framework that provides a simple and flexible way to create web applications. Here are some key points about Flask:\n",
    "\n",
    "Minimalistic: Flask follows a minimalistic approach, meaning it provides only the essential tools and features needed for web development. It allows developers to choose the tools and libraries they prefer and avoids imposing any restrictions or dependencies.\n",
    "\n",
    "Easy to Use: Flask is designed to be easy to understand and use. Its API is simple and intuitive, making it a great choice for beginners. The framework encourages a straightforward and readable coding style, making development faster and more efficient.\n",
    "\n",
    "Flexibility: Flask provides a flexible architecture, allowing developers to customize and extend its functionality to suit their specific needs. It does not enforce any particular project structure or design patterns, giving developers the freedom to organize their code as they prefer.\n",
    "\n",
    "Extensive Documentation: Flask has excellent documentation that covers all aspects of the framework. The documentation is comprehensive, well-structured, and includes examples and code snippets, making it easier for developers to learn and use Flask effectively.\n",
    "\n",
    "Large Ecosystem: Despite being lightweight, Flask has a large and active community. This results in a wide range of Flask extensions and libraries available, providing additional functionality and features for various tasks such as database integration, form validation, authentication, and more. The rich ecosystem of Flask allows developers to leverage existing solutions and save development time.\n",
    "\n",
    "Integration: Flask seamlessly integrates with other popular Python libraries and tools, allowing developers to combine Flask with technologies such as SQLAlchemy for database management, Jinja2 for templating, and Werkzeug for routing and debugging.\n",
    "\n",
    "Scalability: Flask is well-suited for both small and large applications. It does not impose any restrictions on application size or complexity, enabling developers to scale their projects as needed.\n",
    "\n",
    "Testing Support: Flask provides built-in support for testing, making it easier to write unit tests and integration tests for your web applications. This facilitates the development of robust and reliable applications.\n",
    "\n",
    "These advantages make Flask a popular choice among developers for building web applications in Python.\n",
    "\"\"\""
   ]
  },
  {
   "cell_type": "code",
   "execution_count": 2,
   "id": "f591a06f-2dfe-4622-bc24-0aa0b2f996fa",
   "metadata": {},
   "outputs": [
    {
     "data": {
      "text/plain": [
       "\"from flask import Flask\\n\\napp = Flask(__name__)\\n\\n@app.route('/')\\ndef hello():\\n    return 'Hello World!!'\\n\\nif __name__ == '__main__':\\n    app.run()\\n\""
      ]
     },
     "execution_count": 2,
     "metadata": {},
     "output_type": "execute_result"
    }
   ],
   "source": [
    "#que 2\n",
    "\"\"\"from flask import Flask\n",
    "\n",
    "app = Flask(__name__)\n",
    "\n",
    "@app.route('/')\n",
    "def hello():\n",
    "    return 'Hello World!!'\n",
    "\n",
    "if __name__ == '__main__':\n",
    "    app.run()\n",
    "\"\"\""
   ]
  },
  {
   "cell_type": "code",
   "execution_count": 3,
   "id": "b321f26e-9f58-485d-ab5f-8018d8fd0b48",
   "metadata": {},
   "outputs": [
    {
     "data": {
      "text/plain": [
       "'In Flask, app routing refers to the process of mapping URLs (Uniform Resource Locators) to specific functions or view handlers within a Flask application. It determines how the application responds to different URL patterns and HTTP methods.\\n\\nWhen you define an app route in Flask, you associate a URL pattern with a Python function. When a user visits a particular URL, Flask matches that URL against the defined routes and invokes the associated function to generate the response.\\n'"
      ]
     },
     "execution_count": 3,
     "metadata": {},
     "output_type": "execute_result"
    }
   ],
   "source": [
    "#que 3\n",
    "\"\"\"In Flask, app routing refers to the process of mapping URLs (Uniform Resource Locators) to specific functions or view handlers within a Flask application. It determines how the application responds to different URL patterns and HTTP methods.\n",
    "\n",
    "When you define an app route in Flask, you associate a URL pattern with a Python function. When a user visits a particular URL, Flask matches that URL against the defined routes and invokes the associated function to generate the response.\n",
    "\"\"\""
   ]
  },
  {
   "cell_type": "code",
   "execution_count": 5,
   "id": "385a6096-f244-440a-a4df-00ccd4ac9b04",
   "metadata": {},
   "outputs": [
    {
     "data": {
      "text/plain": [
       "'\\nfrom flask import Flask\\n\\napp = Flask(__name__)\\n\\n@app.route(\\'/welcome\\')\\ndef welcome():\\n    return \\'Welcome to ABC Corporation\\'\\n\\n@app.route(\\'/\\')\\ndef company_details():\\n    company_name = \\'ABC Corporation\\'\\n    location = \\'India\\'\\n    contact_detail = \\'999-999-9999\\'\\n\\n    details = f\"Company Name: {company_name}<br>\"               f\"Location: {location}<br>\"               f\"Contact Detail: {contact_detail}\"\\n\\n    return details\\n\\nif __name__ == \\'__main__\\':\\n    app.run()'"
      ]
     },
     "execution_count": 5,
     "metadata": {},
     "output_type": "execute_result"
    }
   ],
   "source": [
    "#que 4\n",
    "\"\"\"\n",
    "from flask import Flask\n",
    "\n",
    "app = Flask(__name__)\n",
    "\n",
    "@app.route('/welcome')\n",
    "def welcome():\n",
    "    return 'Welcome to ABC Corporation'\n",
    "\n",
    "@app.route('/')\n",
    "def company_details():\n",
    "    company_name = 'ABC Corporation'\n",
    "    location = 'India'\n",
    "    contact_detail = '999-999-9999'\n",
    "\n",
    "    details = f\"Company Name: {company_name}<br>\" \\\n",
    "              f\"Location: {location}<br>\" \\\n",
    "              f\"Contact Detail: {contact_detail}\"\n",
    "\n",
    "    return details\n",
    "\n",
    "if __name__ == '__main__':\n",
    "    app.run()\"\"\"\n"
   ]
  },
  {
   "cell_type": "code",
   "execution_count": null,
   "id": "a7ff4e73-a396-45b4-8c0c-eb626724c6ce",
   "metadata": {},
   "outputs": [],
   "source": [
    "#que 5\n",
    "#In Flask, the url_for() function is used for URL building. It generates a URL for a specific endpoint based on its name and any route parameters it requires. This function is particularly useful because it abstracts the URL generation process and allows for dynamic and flexible routing within a Flask application.\n"
   ]
  }
 ],
 "metadata": {
  "kernelspec": {
   "display_name": "Python 3 (ipykernel)",
   "language": "python",
   "name": "python3"
  },
  "language_info": {
   "codemirror_mode": {
    "name": "ipython",
    "version": 3
   },
   "file_extension": ".py",
   "mimetype": "text/x-python",
   "name": "python",
   "nbconvert_exporter": "python",
   "pygments_lexer": "ipython3",
   "version": "3.10.8"
  }
 },
 "nbformat": 4,
 "nbformat_minor": 5
}
